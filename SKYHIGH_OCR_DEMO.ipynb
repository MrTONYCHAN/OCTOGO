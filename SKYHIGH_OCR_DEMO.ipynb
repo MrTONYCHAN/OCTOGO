{
  "nbformat": 4,
  "nbformat_minor": 0,
  "metadata": {
    "colab": {
      "name": "SKYHIGH_OCR_DEMO.ipynb",
      "provenance": []
    },
    "kernelspec": {
      "name": "python3",
      "display_name": "Python 3"
    },
    "language_info": {
      "name": "python"
    }
  },
  "cells": [
    {
      "cell_type": "markdown",
      "source": [
        "\n",
        "\n",
        "--- \n",
        "                SKYHIGH OCR DEMO\n",
        "\n",
        "\n",
        "\n",
        "---\n",
        "\n",
        "\n",
        "\n"
      ],
      "metadata": {
        "id": "Aj9VIReFWSBc"
      }
    },
    {
      "cell_type": "markdown",
      "source": [
        "#PROCESS \n",
        "\n",
        "* Create a folder named `img_folder`\n",
        "* Image format must be `*.jpg`\n",
        "* Upload images to folder `img_folder`\n",
        "* `Runtime` > `Run all` or press `Ctrl` `F9`\n",
        "* Scroll to the bottom, wait for the application to finish running\n",
        "* Download file `excel_folder.zip`"
      ],
      "metadata": {
        "id": "Lb86DpU7RTiW"
      }
    },
    {
      "cell_type": "markdown",
      "source": [
        "#INSTALL Py Tesseract"
      ],
      "metadata": {
        "id": "AZfenC1zRtmQ"
      }
    },
    {
      "cell_type": "code",
      "execution_count": null,
      "metadata": {
        "colab": {
          "base_uri": "https://localhost:8080/"
        },
        "id": "1_uoSiA6QgKh",
        "outputId": "cbc6011a-9a35-4636-db08-ce0b474d3952"
      },
      "outputs": [
        {
          "output_type": "stream",
          "name": "stdout",
          "text": [
            "Requirement already satisfied: pytesseract in /usr/local/lib/python3.7/dist-packages (0.3.8)\n",
            "Requirement already satisfied: Pillow in /usr/local/lib/python3.7/dist-packages (from pytesseract) (7.1.2)\n"
          ]
        }
      ],
      "source": [
        "!pip install pytesseract"
      ]
    },
    {
      "cell_type": "code",
      "source": [
        "# !sudo apt-get update\n",
        "# !sudo apt-get install libleptonica-dev \n",
        "# !sudo apt-get install tesseract-ocr tesseract-ocr-dev\n",
        "# !sudo apt-get install libtesseract-dev"
      ],
      "metadata": {
        "id": "i9HoHTEuSDwl"
      },
      "execution_count": null,
      "outputs": []
    },
    {
      "cell_type": "code",
      "source": [
        "!sudo apt install tesseract-ocr\n",
        "!sudo apt install libtesseract-dev"
      ],
      "metadata": {
        "colab": {
          "base_uri": "https://localhost:8080/"
        },
        "id": "0MFGUfVQSEfw",
        "outputId": "e86b07c5-a242-4915-e2c2-5c5891116ab2"
      },
      "execution_count": null,
      "outputs": [
        {
          "output_type": "stream",
          "name": "stdout",
          "text": [
            "Reading package lists... Done\n",
            "Building dependency tree       \n",
            "Reading state information... Done\n",
            "tesseract-ocr is already the newest version (4.00~git2288-10f4998a-2).\n",
            "0 upgraded, 0 newly installed, 0 to remove and 37 not upgraded.\n",
            "Reading package lists... Done\n",
            "Building dependency tree       \n",
            "Reading state information... Done\n",
            "libtesseract-dev is already the newest version (4.00~git2288-10f4998a-2).\n",
            "0 upgraded, 0 newly installed, 0 to remove and 37 not upgraded.\n"
          ]
        }
      ]
    },
    {
      "cell_type": "code",
      "source": [
        "!pip install tesseract\n",
        "!pip install tesseract-ocr"
      ],
      "metadata": {
        "colab": {
          "base_uri": "https://localhost:8080/"
        },
        "id": "ij-YPK8FSJPX",
        "outputId": "5488cbd7-c406-41fb-b3c3-5e40da090c7f"
      },
      "execution_count": null,
      "outputs": [
        {
          "output_type": "stream",
          "name": "stdout",
          "text": [
            "Requirement already satisfied: tesseract in /usr/local/lib/python3.7/dist-packages (0.1.3)\n",
            "Requirement already satisfied: tesseract-ocr in /usr/local/lib/python3.7/dist-packages (0.0.1)\n",
            "Requirement already satisfied: cython in /usr/local/lib/python3.7/dist-packages (from tesseract-ocr) (0.29.26)\n"
          ]
        }
      ]
    },
    {
      "cell_type": "code",
      "source": [
        "!tesseract"
      ],
      "metadata": {
        "colab": {
          "base_uri": "https://localhost:8080/"
        },
        "id": "bB4cYwDqSJ7r",
        "outputId": "1cf82391-86e0-4809-f611-98f1ba3ca502"
      },
      "execution_count": null,
      "outputs": [
        {
          "output_type": "stream",
          "name": "stdout",
          "text": [
            "Usage:\n",
            "  tesseract --help | --help-extra | --version\n",
            "  tesseract --list-langs\n",
            "  tesseract imagename outputbase [options...] [configfile...]\n",
            "\n",
            "OCR options:\n",
            "  -l LANG[+LANG]        Specify language(s) used for OCR.\n",
            "NOTE: These options must occur before any configfile.\n",
            "\n",
            "Single options:\n",
            "  --help                Show this help message.\n",
            "  --help-extra          Show extra help for advanced users.\n",
            "  --version             Show version information.\n",
            "  --list-langs          List available languages for tesseract engine.\n"
          ]
        }
      ]
    },
    {
      "cell_type": "markdown",
      "source": [
        "# IMPORT LIBRARIES"
      ],
      "metadata": {
        "id": "bHGoN1BVSO3M"
      }
    },
    {
      "cell_type": "code",
      "source": [
        "import cv2\n",
        "import numpy as np\n",
        "import pandas as pd\n",
        "import matplotlib.pyplot as plt\n",
        "import csv"
      ],
      "metadata": {
        "id": "884oGcNXSN7y"
      },
      "execution_count": null,
      "outputs": []
    },
    {
      "cell_type": "code",
      "source": [
        "import os\n",
        "from pathlib import Path\n",
        "import subprocess"
      ],
      "metadata": {
        "id": "01LmZyTeSg-A"
      },
      "execution_count": null,
      "outputs": []
    },
    {
      "cell_type": "markdown",
      "source": [
        "#FUNCTIONS"
      ],
      "metadata": {
        "id": "M8YJGvQjS3_v"
      }
    },
    {
      "cell_type": "markdown",
      "source": [
        "PATH"
      ],
      "metadata": {
        "id": "nhRl8UEkTTAp"
      }
    },
    {
      "cell_type": "code",
      "source": [
        "def getFname(path):\n",
        "    if('/' in path):\n",
        "        arr1=path.split('/')\n",
        "    else:\n",
        "        arr1=path.split('\\\\')\n",
        "    return arr1[len(arr1)-1].replace(\".jpg\", \".xlsx\")"
      ],
      "metadata": {
        "id": "LhnQ2gzFS3qF"
      },
      "execution_count": null,
      "outputs": []
    },
    {
      "cell_type": "markdown",
      "source": [
        "IMG / XLSX"
      ],
      "metadata": {
        "id": "YDm7DevtTYB0"
      }
    },
    {
      "cell_type": "code",
      "source": [
        "def image2excel(imgfile,excelfile):\n",
        "\n",
        "    try:\n",
        "        from PIL import Image\n",
        "    except ImportError:\n",
        "        import Image\n",
        "    import pytesseract\n",
        "\n",
        "    #read your file\n",
        "    file=imgfile\n",
        "    img = cv2.imread(file,0)\n",
        "    img.shape\n",
        "\n",
        "    #thresholding the image to a binary image\n",
        "    thresh,img_bin = cv2.threshold(img,128,255,cv2.THRESH_BINARY | cv2.THRESH_OTSU)\n",
        "\n",
        "    #inverting the image \n",
        "    img_bin = 255-img_bin\n",
        "    cv2.imwrite('tmp/cv_inverted.png',img_bin)\n",
        "    #Plotting the image to see the output\n",
        "    plotting = plt.imshow(img_bin,cmap='gray')\n",
        "    # plt.show()\n",
        "    # countcol(width) of kernel as 100th of total width\n",
        "    kernel_len = np.array(img).shape[1]//100\n",
        "    # Defining a vertical kernel to detect all vertical lines of image \n",
        "    ver_kernel = cv2.getStructuringElement(cv2.MORPH_RECT, (1, kernel_len))\n",
        "    # Defining a horizontal kernel to detect all horizontal lines of image\n",
        "    hor_kernel = cv2.getStructuringElement(cv2.MORPH_RECT, (kernel_len, 1))\n",
        "    # A kernel of 2x2\n",
        "    kernel = cv2.getStructuringElement(cv2.MORPH_RECT, (2, 2))\n",
        "\n",
        "    #Use vertical kernel to detect and save the vertical lines in a jpg\n",
        "    image_1 = cv2.erode(img_bin, ver_kernel, iterations=3)\n",
        "    vertical_lines = cv2.dilate(image_1, ver_kernel, iterations=3)\n",
        "    cv2.imwrite(\"tmp/vertical.jpg\",vertical_lines)\n",
        "    #Plot the generated image\n",
        "    plotting = plt.imshow(image_1,cmap='gray')\n",
        "    # plt.show()\n",
        "\n",
        "    #Use horizontal kernel to detect and save the horizontal lines in a jpg\n",
        "    image_2 = cv2.erode(img_bin, hor_kernel, iterations=3)\n",
        "    horizontal_lines = cv2.dilate(image_2, hor_kernel, iterations=3)\n",
        "    cv2.imwrite(\"tmp/horizontal.jpg\",horizontal_lines)\n",
        "    #Plot the generated image\n",
        "    plotting = plt.imshow(image_2,cmap='gray')\n",
        "    # plt.show()\n",
        "\n",
        "    # Combine horizontal and vertical lines in a new third image, with both having same weight.\n",
        "    img_vh = cv2.addWeighted(vertical_lines, 0.5, horizontal_lines, 0.5, 0.0)\n",
        "    #Eroding and thesholding the image\n",
        "    img_vh = cv2.erode(~img_vh, kernel, iterations=2)\n",
        "    thresh, img_vh = cv2.threshold(img_vh,128,255, cv2.THRESH_BINARY | cv2.THRESH_OTSU)\n",
        "    cv2.imwrite(\"tmp/img_vh.jpg\", img_vh)\n",
        "    bitxor = cv2.bitwise_xor(img,img_vh)\n",
        "    bitnot = cv2.bitwise_not(bitxor)\n",
        "    #Plotting the generated image\n",
        "    plotting = plt.imshow(bitnot,cmap='gray')\n",
        "    # plt.show()\n",
        "\n",
        "    # Detect contours for following box detection\n",
        "    contours, hierarchy = cv2.findContours(img_vh, cv2.RETR_TREE, cv2.CHAIN_APPROX_SIMPLE)\n",
        "\n",
        "    def sort_contours(cnts, method=\"left-to-right\"):\n",
        "        # initialize the reverse flag and sort index\n",
        "        reverse = False\n",
        "        i = 0\n",
        "        # handle if we need to sort in reverse\n",
        "        if method == \"right-to-left\" or method == \"bottom-to-top\":\n",
        "            reverse = True\n",
        "        # handle if we are sorting against the y-coordinate rather than\n",
        "        # the x-coordinate of the bounding box\n",
        "        if method == \"top-to-bottom\" or method == \"bottom-to-top\":\n",
        "            i = 1\n",
        "        # construct the list of bounding boxes and sort them from top to\n",
        "        # bottom\n",
        "        boundingBoxes = [cv2.boundingRect(c) for c in cnts]\n",
        "        (cnts, boundingBoxes) = zip(*sorted(zip(cnts, boundingBoxes),\n",
        "        key=lambda b:b[1][i], reverse=reverse))\n",
        "        # return the list of sorted contours and bounding boxes\n",
        "        return (cnts, boundingBoxes)\n",
        "\n",
        "    # Sort all the contours by top to bottom.\n",
        "    contours, boundingBoxes = sort_contours(contours, method=\"top-to-bottom\")\n",
        "\n",
        "    #Creating a list of heights for all detected boxes\n",
        "    heights = [boundingBoxes[i][3] for i in range(len(boundingBoxes))]\n",
        "\n",
        "    #Get mean of heights\n",
        "    mean = np.mean(heights)\n",
        "\n",
        "    #Create list box to store all boxes in  \n",
        "    box = []\n",
        "    # Get position (x,y), width and height for every contour and show the contour on image\n",
        "    for c in contours:\n",
        "        x, y, w, h = cv2.boundingRect(c)\n",
        "        if (w<1000 and h<500):\n",
        "            image = cv2.rectangle(img,(x,y),(x+w,y+h),(0,255,0),2)\n",
        "            box.append([x,y,w,h])\n",
        "            \n",
        "    plotting = plt.imshow(image,cmap='gray')\n",
        "    # plt.show()\n",
        "\n",
        "    #Creating two lists to define row and column in which cell is located\n",
        "    row=[]\n",
        "    column=[]\n",
        "    j=0\n",
        "\n",
        "    #Sorting the boxes to their respective row and column\n",
        "    for i in range(len(box)):    \n",
        "            \n",
        "        if(i==0):\n",
        "            column.append(box[i])\n",
        "            previous=box[i]    \n",
        "        \n",
        "        else:\n",
        "            if(box[i][1]<=previous[1]+mean/2):\n",
        "                column.append(box[i])\n",
        "                previous=box[i]            \n",
        "                \n",
        "                if(i==len(box)-1):\n",
        "                    row.append(column)        \n",
        "                \n",
        "            else:\n",
        "                row.append(column)\n",
        "                column=[]\n",
        "                previous = box[i]\n",
        "                column.append(box[i])\n",
        "                \n",
        "    # print(column)\n",
        "    # print(row)\n",
        "\n",
        "    #calculating maximum number of cells\n",
        "    countcol = 0\n",
        "    for i in range(len(row)):\n",
        "        countcol = len(row[i])\n",
        "        if countcol > countcol:\n",
        "            countcol = countcol\n",
        "\n",
        "    #Retrieving the center of each column\n",
        "    center = [int(row[i][j][0]+row[i][j][2]/2) for j in range(len(row[i])) if row[0]]\n",
        "\n",
        "    center=np.array(center)\n",
        "    center.sort()\n",
        "    # print(center)\n",
        "    #Regarding the distance to the columns center, the boxes are arranged in respective order\n",
        "\n",
        "    finalboxes = []\n",
        "    for i in range(len(row)):\n",
        "        lis=[]\n",
        "        for k in range(countcol):\n",
        "            lis.append([])\n",
        "        for j in range(len(row[i])):\n",
        "            diff = abs(center-(row[i][j][0]+row[i][j][2]/4))\n",
        "            minimum = min(diff)\n",
        "            indexing = list(diff).index(minimum)\n",
        "            lis[indexing].append(row[i][j])\n",
        "        finalboxes.append(lis)\n",
        "\n",
        "\n",
        "    #from every single image-based cell/box the strings are extracted via pytesseract and stored in a list\n",
        "    outer=[]\n",
        "    for i in range(len(finalboxes)):\n",
        "        for j in range(len(finalboxes[i])):\n",
        "            inner=''\n",
        "            if(len(finalboxes[i][j])==0):\n",
        "                outer.append(' ')\n",
        "            else:\n",
        "                for k in range(len(finalboxes[i][j])):\n",
        "                    y,x,w,h = finalboxes[i][j][k][0],finalboxes[i][j][k][1], finalboxes[i][j][k][2],finalboxes[i][j][k][3]\n",
        "                    finalimg = bitnot[x:x+h, y:y+w]\n",
        "                    kernel = cv2.getStructuringElement(cv2.MORPH_RECT, (2, 1))\n",
        "                    border = cv2.copyMakeBorder(finalimg,2,2,2,2, cv2.BORDER_CONSTANT,value=[255,255])\n",
        "                    resizing = cv2.resize(border, None, fx=2, fy=2, interpolation=cv2.INTER_CUBIC)\n",
        "                    dilation = cv2.dilate(resizing, kernel,iterations=1)\n",
        "                    erosion = cv2.erode(dilation, kernel,iterations=2)\n",
        "                    \n",
        "                    out = pytesseract.image_to_string(erosion)\n",
        "                    if(len(out)==0):\n",
        "                        out = pytesseract.image_to_string(erosion, config='--psm 3')\n",
        "                    inner = inner +\" \"+ out\n",
        "                outer.append(inner)\n",
        "\n",
        "    #Creating a dataframe of the generated OCR list\n",
        "    arr = np.array(outer)\n",
        "    dataframe = pd.DataFrame(arr.reshape(len(row), countcol))\n",
        "    print(dataframe)\n",
        "    data = dataframe.style.set_properties(align=\"left\")\n",
        "    #Converting it in a excel-file\n",
        "    data.to_excel(excelfile)"
      ],
      "metadata": {
        "id": "W6xExeHxTd42"
      },
      "execution_count": null,
      "outputs": []
    },
    {
      "cell_type": "markdown",
      "source": [
        "##Delete and Redo"
      ],
      "metadata": {
        "id": "GozqxKtuUueW"
      }
    },
    {
      "cell_type": "code",
      "source": [
        "img_folder=Path('img_folder')\n",
        "excel_folder=Path('excel_folder')\n",
        "tmp=Path('tmp')\n",
        "\n",
        "# Xóa zip file\n",
        "if os.path.exists('excel_folder.zip'):\n",
        "    !rm excel_folder.zip\n",
        "\n",
        "# Kiểm tra đã có folder đầu ra chưa - excel_folder\n",
        "if os.path.exists(excel_folder):\n",
        "    !rm -r excel_folder\n",
        "    os.makedirs(excel_folder)\n",
        "else:\n",
        "    os.makedirs(excel_folder)\n",
        "# Kiểm tra đã có thư mục tạm chưa - tmp\n",
        "if os.path.exists(tmp):\n",
        "    !rm -r tmp\n",
        "    os.makedirs(tmp)\n",
        "else:\n",
        "    os.makedirs(tmp)"
      ],
      "metadata": {
        "id": "9GVo3uqIUYMK"
      },
      "execution_count": null,
      "outputs": []
    },
    {
      "cell_type": "markdown",
      "source": [
        "#Start Converting"
      ],
      "metadata": {
        "id": "uLn4P2whU4Qi"
      }
    },
    {
      "cell_type": "code",
      "source": [
        "#Start converting\n",
        "for fdir in img_folder.glob('*.jpg'):\n",
        "    fname=getFname(str(fdir))\n",
        "    print('-----------')\n",
        "    print('Đang convert %s...' % (fname))    \n",
        "    image2excel(str(fdir),str(excel_folder)+'/'+str(fname))\n",
        "\n",
        "print('##################')\n",
        "print('##################')\n",
        "print('##################')\n",
        "print('Compressing into file excel_folder.zip...')\n",
        "cmd='zip -r excel_folder.zip '+str(excel_folder)\n",
        "p1 = subprocess.Popen(cmd,shell=True)\n",
        "p1.wait()\n",
        "print('############ DONE YOU CAN DOWNLOAD THE FILE excel_folder.zip')"
      ],
      "metadata": {
        "colab": {
          "base_uri": "https://localhost:8080/",
          "height": 945
        },
        "id": "6QKCrS0lU2XG",
        "outputId": "087c3a03-c866-4773-8a84-fedd32177006"
      },
      "execution_count": null,
      "outputs": [
        {
          "output_type": "stream",
          "name": "stdout",
          "text": [
            "-----------\n",
            "Đang convert aid1418272-v4-728px-Write-a-Bill-for-Payment-Step-1-Version-4.xlsx.xlsx...\n",
            "                                                   0      1   2   ...  15  16  17\n",
            "0                      \\n\f \f \f \f  \\n\f \f \f \f \f \f \f \f \f             ...            \n",
            "1     \\n\\nFee Pommrya 200 fi\\n\\nPlanting beds [[Ja...             ...            \n",
            "2                                  \f 888\\n\f he\\n\f \f \f             ...            \n",
            "3                       \f \f \f January 6. 2020\\n\f  \\n\f             ...            \n",
            "4     \\n\f January 24, 2020\"\\n\f Planting beds\\n\f $1...             ...            \n",
            "5                           $500.00\\n\f Sub Total\\n\f \f             ...            \n",
            "6                                     \f Discount\\n\f \f             ...            \n",
            "7                            $32.60\\n\f Taxes:\\n\f  \\n\f             ...            \n",
            "8                                  $418\\n\f Total\\n\f \f             ...            \n",
            "9    Terms: Payment du@ Tir 30 days. 1%10 — net 30...             ...            \n",
            "10   Please note the invoice number in\\n\\nyour pay...             ...            \n",
            "11                                                  \f             ...            \n",
            "12                                                  \f    \\n\f   \f  ...   \f   \f   \f\n",
            "\n",
            "[13 rows x 18 columns]\n"
          ]
        },
        {
          "output_type": "error",
          "ename": "IllegalCharacterError",
          "evalue": "ignored",
          "traceback": [
            "\u001b[0;31m---------------------------------------------------------------------------\u001b[0m",
            "\u001b[0;31mIllegalCharacterError\u001b[0m                     Traceback (most recent call last)",
            "\u001b[0;32m<ipython-input-55-442b8a0695ff>\u001b[0m in \u001b[0;36m<module>\u001b[0;34m()\u001b[0m\n\u001b[1;32m      4\u001b[0m     \u001b[0mprint\u001b[0m\u001b[0;34m(\u001b[0m\u001b[0;34m'-----------'\u001b[0m\u001b[0;34m)\u001b[0m\u001b[0;34m\u001b[0m\u001b[0;34m\u001b[0m\u001b[0m\n\u001b[1;32m      5\u001b[0m     \u001b[0mprint\u001b[0m\u001b[0;34m(\u001b[0m\u001b[0;34m'Đang convert %s...'\u001b[0m \u001b[0;34m%\u001b[0m \u001b[0;34m(\u001b[0m\u001b[0mfname\u001b[0m\u001b[0;34m)\u001b[0m\u001b[0;34m)\u001b[0m\u001b[0;34m\u001b[0m\u001b[0;34m\u001b[0m\u001b[0m\n\u001b[0;32m----> 6\u001b[0;31m     \u001b[0mimage2excel\u001b[0m\u001b[0;34m(\u001b[0m\u001b[0mstr\u001b[0m\u001b[0;34m(\u001b[0m\u001b[0mfdir\u001b[0m\u001b[0;34m)\u001b[0m\u001b[0;34m,\u001b[0m\u001b[0mstr\u001b[0m\u001b[0;34m(\u001b[0m\u001b[0mexcel_folder\u001b[0m\u001b[0;34m)\u001b[0m\u001b[0;34m+\u001b[0m\u001b[0;34m'/'\u001b[0m\u001b[0;34m+\u001b[0m\u001b[0mstr\u001b[0m\u001b[0;34m(\u001b[0m\u001b[0mfname\u001b[0m\u001b[0;34m)\u001b[0m\u001b[0;34m)\u001b[0m\u001b[0;34m\u001b[0m\u001b[0;34m\u001b[0m\u001b[0m\n\u001b[0m\u001b[1;32m      7\u001b[0m \u001b[0;34m\u001b[0m\u001b[0m\n\u001b[1;32m      8\u001b[0m \u001b[0mprint\u001b[0m\u001b[0;34m(\u001b[0m\u001b[0;34m'##################'\u001b[0m\u001b[0;34m)\u001b[0m\u001b[0;34m\u001b[0m\u001b[0;34m\u001b[0m\u001b[0m\n",
            "\u001b[0;32m<ipython-input-53-a50670885175>\u001b[0m in \u001b[0;36mimage2excel\u001b[0;34m(imgfile, excelfile)\u001b[0m\n\u001b[1;32m    187\u001b[0m     \u001b[0mdata\u001b[0m \u001b[0;34m=\u001b[0m \u001b[0mdataframe\u001b[0m\u001b[0;34m.\u001b[0m\u001b[0mstyle\u001b[0m\u001b[0;34m.\u001b[0m\u001b[0mset_properties\u001b[0m\u001b[0;34m(\u001b[0m\u001b[0malign\u001b[0m\u001b[0;34m=\u001b[0m\u001b[0;34m\"left\"\u001b[0m\u001b[0;34m)\u001b[0m\u001b[0;34m\u001b[0m\u001b[0;34m\u001b[0m\u001b[0m\n\u001b[1;32m    188\u001b[0m     \u001b[0;31m#Converting it in a excel-file\u001b[0m\u001b[0;34m\u001b[0m\u001b[0;34m\u001b[0m\u001b[0;34m\u001b[0m\u001b[0m\n\u001b[0;32m--> 189\u001b[0;31m     \u001b[0mdata\u001b[0m\u001b[0;34m.\u001b[0m\u001b[0mto_excel\u001b[0m\u001b[0;34m(\u001b[0m\u001b[0mexcelfile\u001b[0m\u001b[0;34m)\u001b[0m\u001b[0;34m\u001b[0m\u001b[0;34m\u001b[0m\u001b[0m\n\u001b[0m",
            "\u001b[0;32m/usr/local/lib/python3.7/dist-packages/pandas/io/formats/style.py\u001b[0m in \u001b[0;36mto_excel\u001b[0;34m(self, excel_writer, sheet_name, na_rep, float_format, columns, header, index, index_label, startrow, startcol, engine, merge_cells, encoding, inf_rep, verbose, freeze_panes)\u001b[0m\n\u001b[1;32m    233\u001b[0m             \u001b[0mstartcol\u001b[0m\u001b[0;34m=\u001b[0m\u001b[0mstartcol\u001b[0m\u001b[0;34m,\u001b[0m\u001b[0;34m\u001b[0m\u001b[0;34m\u001b[0m\u001b[0m\n\u001b[1;32m    234\u001b[0m             \u001b[0mfreeze_panes\u001b[0m\u001b[0;34m=\u001b[0m\u001b[0mfreeze_panes\u001b[0m\u001b[0;34m,\u001b[0m\u001b[0;34m\u001b[0m\u001b[0;34m\u001b[0m\u001b[0m\n\u001b[0;32m--> 235\u001b[0;31m             \u001b[0mengine\u001b[0m\u001b[0;34m=\u001b[0m\u001b[0mengine\u001b[0m\u001b[0;34m,\u001b[0m\u001b[0;34m\u001b[0m\u001b[0;34m\u001b[0m\u001b[0m\n\u001b[0m\u001b[1;32m    236\u001b[0m         )\n\u001b[1;32m    237\u001b[0m \u001b[0;34m\u001b[0m\u001b[0m\n",
            "\u001b[0;32m/usr/local/lib/python3.7/dist-packages/pandas/io/formats/excel.py\u001b[0m in \u001b[0;36mwrite\u001b[0;34m(self, writer, sheet_name, startrow, startcol, freeze_panes, engine)\u001b[0m\n\u001b[1;32m    737\u001b[0m             \u001b[0mstartrow\u001b[0m\u001b[0;34m=\u001b[0m\u001b[0mstartrow\u001b[0m\u001b[0;34m,\u001b[0m\u001b[0;34m\u001b[0m\u001b[0;34m\u001b[0m\u001b[0m\n\u001b[1;32m    738\u001b[0m             \u001b[0mstartcol\u001b[0m\u001b[0;34m=\u001b[0m\u001b[0mstartcol\u001b[0m\u001b[0;34m,\u001b[0m\u001b[0;34m\u001b[0m\u001b[0;34m\u001b[0m\u001b[0m\n\u001b[0;32m--> 739\u001b[0;31m             \u001b[0mfreeze_panes\u001b[0m\u001b[0;34m=\u001b[0m\u001b[0mfreeze_panes\u001b[0m\u001b[0;34m,\u001b[0m\u001b[0;34m\u001b[0m\u001b[0;34m\u001b[0m\u001b[0m\n\u001b[0m\u001b[1;32m    740\u001b[0m         )\n\u001b[1;32m    741\u001b[0m         \u001b[0;32mif\u001b[0m \u001b[0mneed_save\u001b[0m\u001b[0;34m:\u001b[0m\u001b[0;34m\u001b[0m\u001b[0;34m\u001b[0m\u001b[0m\n",
            "\u001b[0;32m/usr/local/lib/python3.7/dist-packages/pandas/io/excel/_openpyxl.py\u001b[0m in \u001b[0;36mwrite_cells\u001b[0;34m(self, cells, sheet_name, startrow, startcol, freeze_panes)\u001b[0m\n\u001b[1;32m    423\u001b[0m                 \u001b[0mrow\u001b[0m\u001b[0;34m=\u001b[0m\u001b[0mstartrow\u001b[0m \u001b[0;34m+\u001b[0m \u001b[0mcell\u001b[0m\u001b[0;34m.\u001b[0m\u001b[0mrow\u001b[0m \u001b[0;34m+\u001b[0m \u001b[0;36m1\u001b[0m\u001b[0;34m,\u001b[0m \u001b[0mcolumn\u001b[0m\u001b[0;34m=\u001b[0m\u001b[0mstartcol\u001b[0m \u001b[0;34m+\u001b[0m \u001b[0mcell\u001b[0m\u001b[0;34m.\u001b[0m\u001b[0mcol\u001b[0m \u001b[0;34m+\u001b[0m \u001b[0;36m1\u001b[0m\u001b[0;34m\u001b[0m\u001b[0;34m\u001b[0m\u001b[0m\n\u001b[1;32m    424\u001b[0m             )\n\u001b[0;32m--> 425\u001b[0;31m             \u001b[0mxcell\u001b[0m\u001b[0;34m.\u001b[0m\u001b[0mvalue\u001b[0m\u001b[0;34m,\u001b[0m \u001b[0mfmt\u001b[0m \u001b[0;34m=\u001b[0m \u001b[0mself\u001b[0m\u001b[0;34m.\u001b[0m\u001b[0m_value_with_fmt\u001b[0m\u001b[0;34m(\u001b[0m\u001b[0mcell\u001b[0m\u001b[0;34m.\u001b[0m\u001b[0mval\u001b[0m\u001b[0;34m)\u001b[0m\u001b[0;34m\u001b[0m\u001b[0;34m\u001b[0m\u001b[0m\n\u001b[0m\u001b[1;32m    426\u001b[0m             \u001b[0;32mif\u001b[0m \u001b[0mfmt\u001b[0m\u001b[0;34m:\u001b[0m\u001b[0;34m\u001b[0m\u001b[0;34m\u001b[0m\u001b[0m\n\u001b[1;32m    427\u001b[0m                 \u001b[0mxcell\u001b[0m\u001b[0;34m.\u001b[0m\u001b[0mnumber_format\u001b[0m \u001b[0;34m=\u001b[0m \u001b[0mfmt\u001b[0m\u001b[0;34m\u001b[0m\u001b[0;34m\u001b[0m\u001b[0m\n",
            "\u001b[0;32m/usr/local/lib/python3.7/dist-packages/openpyxl/cell/cell.py\u001b[0m in \u001b[0;36mvalue\u001b[0;34m(self, value)\u001b[0m\n\u001b[1;32m    292\u001b[0m     \u001b[0;32mdef\u001b[0m \u001b[0mvalue\u001b[0m\u001b[0;34m(\u001b[0m\u001b[0mself\u001b[0m\u001b[0;34m,\u001b[0m \u001b[0mvalue\u001b[0m\u001b[0;34m)\u001b[0m\u001b[0;34m:\u001b[0m\u001b[0;34m\u001b[0m\u001b[0;34m\u001b[0m\u001b[0m\n\u001b[1;32m    293\u001b[0m         \u001b[0;34m\"\"\"Set the value and infer type and display options.\"\"\"\u001b[0m\u001b[0;34m\u001b[0m\u001b[0;34m\u001b[0m\u001b[0m\n\u001b[0;32m--> 294\u001b[0;31m         \u001b[0mself\u001b[0m\u001b[0;34m.\u001b[0m\u001b[0m_bind_value\u001b[0m\u001b[0;34m(\u001b[0m\u001b[0mvalue\u001b[0m\u001b[0;34m)\u001b[0m\u001b[0;34m\u001b[0m\u001b[0;34m\u001b[0m\u001b[0m\n\u001b[0m\u001b[1;32m    295\u001b[0m \u001b[0;34m\u001b[0m\u001b[0m\n\u001b[1;32m    296\u001b[0m     \u001b[0;34m@\u001b[0m\u001b[0mproperty\u001b[0m\u001b[0;34m\u001b[0m\u001b[0;34m\u001b[0m\u001b[0m\n",
            "\u001b[0;32m/usr/local/lib/python3.7/dist-packages/openpyxl/cell/cell.py\u001b[0m in \u001b[0;36m_bind_value\u001b[0;34m(self, value)\u001b[0m\n\u001b[1;32m    195\u001b[0m \u001b[0;34m\u001b[0m\u001b[0m\n\u001b[1;32m    196\u001b[0m         \u001b[0;32melif\u001b[0m \u001b[0misinstance\u001b[0m\u001b[0;34m(\u001b[0m\u001b[0mvalue\u001b[0m\u001b[0;34m,\u001b[0m \u001b[0mSTRING_TYPES\u001b[0m\u001b[0;34m)\u001b[0m\u001b[0;34m:\u001b[0m\u001b[0;34m\u001b[0m\u001b[0;34m\u001b[0m\u001b[0m\n\u001b[0;32m--> 197\u001b[0;31m             \u001b[0mvalue\u001b[0m \u001b[0;34m=\u001b[0m \u001b[0mself\u001b[0m\u001b[0;34m.\u001b[0m\u001b[0mcheck_string\u001b[0m\u001b[0;34m(\u001b[0m\u001b[0mvalue\u001b[0m\u001b[0;34m)\u001b[0m\u001b[0;34m\u001b[0m\u001b[0;34m\u001b[0m\u001b[0m\n\u001b[0m\u001b[1;32m    198\u001b[0m             \u001b[0mself\u001b[0m\u001b[0;34m.\u001b[0m\u001b[0mdata_type\u001b[0m \u001b[0;34m=\u001b[0m \u001b[0mself\u001b[0m\u001b[0;34m.\u001b[0m\u001b[0mTYPE_STRING\u001b[0m\u001b[0;34m\u001b[0m\u001b[0;34m\u001b[0m\u001b[0m\n\u001b[1;32m    199\u001b[0m             \u001b[0;32mif\u001b[0m \u001b[0mlen\u001b[0m\u001b[0;34m(\u001b[0m\u001b[0mvalue\u001b[0m\u001b[0;34m)\u001b[0m \u001b[0;34m>\u001b[0m \u001b[0;36m1\u001b[0m \u001b[0;32mand\u001b[0m \u001b[0mvalue\u001b[0m\u001b[0;34m.\u001b[0m\u001b[0mstartswith\u001b[0m\u001b[0;34m(\u001b[0m\u001b[0;34m\"=\"\u001b[0m\u001b[0;34m)\u001b[0m\u001b[0;34m:\u001b[0m\u001b[0;34m\u001b[0m\u001b[0;34m\u001b[0m\u001b[0m\n",
            "\u001b[0;32m/usr/local/lib/python3.7/dist-packages/openpyxl/cell/cell.py\u001b[0m in \u001b[0;36mcheck_string\u001b[0;34m(self, value)\u001b[0m\n\u001b[1;32m    158\u001b[0m         \u001b[0mvalue\u001b[0m \u001b[0;34m=\u001b[0m \u001b[0mvalue\u001b[0m\u001b[0;34m[\u001b[0m\u001b[0;34m:\u001b[0m\u001b[0;36m32767\u001b[0m\u001b[0;34m]\u001b[0m\u001b[0;34m\u001b[0m\u001b[0;34m\u001b[0m\u001b[0m\n\u001b[1;32m    159\u001b[0m         \u001b[0;32mif\u001b[0m \u001b[0mnext\u001b[0m\u001b[0;34m(\u001b[0m\u001b[0mILLEGAL_CHARACTERS_RE\u001b[0m\u001b[0;34m.\u001b[0m\u001b[0mfinditer\u001b[0m\u001b[0;34m(\u001b[0m\u001b[0mvalue\u001b[0m\u001b[0;34m)\u001b[0m\u001b[0;34m,\u001b[0m \u001b[0;32mNone\u001b[0m\u001b[0;34m)\u001b[0m\u001b[0;34m:\u001b[0m\u001b[0;34m\u001b[0m\u001b[0;34m\u001b[0m\u001b[0m\n\u001b[0;32m--> 160\u001b[0;31m             \u001b[0;32mraise\u001b[0m \u001b[0mIllegalCharacterError\u001b[0m\u001b[0;34m\u001b[0m\u001b[0;34m\u001b[0m\u001b[0m\n\u001b[0m\u001b[1;32m    161\u001b[0m         \u001b[0;32mreturn\u001b[0m \u001b[0mvalue\u001b[0m\u001b[0;34m\u001b[0m\u001b[0;34m\u001b[0m\u001b[0m\n\u001b[1;32m    162\u001b[0m \u001b[0;34m\u001b[0m\u001b[0m\n",
            "\u001b[0;31mIllegalCharacterError\u001b[0m: "
          ]
        },
        {
          "output_type": "display_data",
          "data": {
            "image/png": "[encoded data removed]",
            "text/plain": [
              "<Figure size 432x288 with 1 Axes>"
            ]
          },
          "metadata": {
            "needs_background": "light"
          }
        }
      ]
    }
  ]
}